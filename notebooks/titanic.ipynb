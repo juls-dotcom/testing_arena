{
 "cells": [
  {
   "cell_type": "code",
   "execution_count": 127,
   "metadata": {},
   "outputs": [],
   "source": [
    "import pandas as pd\n",
    "import os\n",
    "import numpy as np\n",
    "import sklearn\n",
    "import matplotlib.pyplot as plt"
   ]
  },
  {
   "cell_type": "code",
   "execution_count": 2,
   "metadata": {},
   "outputs": [],
   "source": [
    "os.getcwd()\n",
    "path = \"/home/julien/Documents/Projects/datasets/titanic\"\n",
    "os.chdir(path)"
   ]
  },
  {
   "cell_type": "code",
   "execution_count": 3,
   "metadata": {},
   "outputs": [
    {
     "data": {
      "text/plain": [
       "(1309, 14)"
      ]
     },
     "execution_count": 3,
     "metadata": {},
     "output_type": "execute_result"
    }
   ],
   "source": [
    "file = \"titanic3.xls\"\n",
    "\n",
    "df = pd.read_excel(file, \n",
    "            #delimiter=r\"\\s+\", \n",
    "            header=0,\n",
    "            decimal = \".\",\n",
    "            #skiprows=[0],\n",
    "            #keep_default_na=False\n",
    "                )\n",
    "df.shape          "
   ]
  },
  {
   "cell_type": "code",
   "execution_count": 89,
   "metadata": {},
   "outputs": [],
   "source": [
    "# Munging pipeline\n",
    "def start_pipeline(df):\n",
    "    dataf = df.copy()\n",
    "    return dataf\n",
    "    \n",
    "def extract_salutation(dataf):\n",
    "    # Note: This method gives me one weird result with Jonkheer, \n",
    "    # but since he is alone, taking the mean won't affect the data\n",
    "    dataf['salutation'] = (dataf.name\n",
    "                         .str\n",
    "                         .split('.',expand=True)\n",
    "                         .loc[:,0]\n",
    "                         .str\n",
    "                         .split(',', expand=True)[1])\n",
    "    return dataf\n",
    "\n",
    "def correct_missing_age(dataf):\n",
    "    # Calculate the median per salutation type\n",
    "    dataf['age'] = (dataf\n",
    "    .groupby(by='salutation')\n",
    "    .age\n",
    "    .apply(lambda d: d.fillna(d.median()))\n",
    "    )\n",
    "    return dataf\n",
    "\n",
    "def port_of_embarcation(dataf):\n",
    "    port_dict = {'S': 'Southampton', \n",
    "                 'C': 'Cherbourg',\n",
    "                 'Q': 'Queenstown'}\n",
    "    dataf['port_of_boarding'] = dataf['embarked'].map(port_dict)\n",
    "    return dataf.drop(columns={'embarked'})\n",
    "\n",
    "def passenger_class(dataf):\n",
    "    class_dict = {1: \"first\",\n",
    "                  2: \"second\",\n",
    "                  3: \"third\"}\n",
    "    dataf['class'] = dataf['pclass'].map(class_dict)\n",
    "    return dataf\n",
    "\n",
    "def age_cluster(dataf):\n",
    "    agesplit = [0,10,18,25,40,90]\n",
    "    agestatus = ['Adolescent','Teenager','Young Adult','Adult','Elder']\n",
    "    dataf['age_group']=pd.cut(dataf.age,agesplit,labels=agestatus)\n",
    "    return dataf\n",
    "\n",
    "# OK so this is a dirty attempt to compute family size...\n",
    "# Best would be to look at port of embarked, to differentiate families with same family name, like Smith\n",
    "# TO IMPROVE\n",
    "def family_aboard(dataf):   \n",
    "    # Assign family name for future mapping\n",
    "    dataf = dataf.assign(family_name = lambda d: d['name'].str.split(expand=True)[0].str.replace(',', ''))\n",
    "    # Compute family count\n",
    "    family_count = (dataf\n",
    "    .groupby('family_name')\n",
    "    .apply(lambda d: pd.Series({  \n",
    "                \"family_members\": d['pclass'].count()\n",
    "    }))\n",
    "    .to_dict('index')\n",
    ")\n",
    "    # Not super elegant but fuck it, Im tired\n",
    "    dataf = (dataf.assign(family_count = dataf['family_name'].map(family_count)))\n",
    "    # Extract the actual family count\n",
    "    dataf = (dataf.assign(family_count = [d.get('family_members') for d in dataf['family_count']]))\n",
    "    return dataf.drop(columns={'pclass'})\n",
    "\n",
    "# Note sure if the cabin means something, but maybe some were deeper in the boat\n",
    "# I do not care about the number, simply the letter, which I guess indicates some deck\n",
    "def cabin(dataf):\n",
    "    dataf['deck'] = dataf['cabin'].str[0]\n",
    "    return dataf\n",
    "\n",
    "def rename_cols(dataf):\n",
    "    dataf = dataf.rename(columns={'sibsp': 'siblings_spouse_aboard',\n",
    "                                  'parch': 'parents_children_aboard'})\n",
    "    return dataf\n",
    "\n",
    "def logical_cols(dataf):\n",
    "    dataf['siblings_spouse_aboard'] = dataf.siblings_spouse_aboard.astype(int)\n",
    "    dataf['parents_children_aboard'] = dataf.siblings_spouse_aboard.astype(int)\n",
    "    return dataf\n",
    "    \n",
    "# Some attributes like body have too many missing values\n",
    "def drop_cols(dataf):\n",
    "    return dataf.drop(columns={'body'})\n",
    "    "
   ]
  },
  {
   "cell_type": "code",
   "execution_count": 90,
   "metadata": {},
   "outputs": [
    {
     "data": {
      "text/html": [
       "<div>\n",
       "<style scoped>\n",
       "    .dataframe tbody tr th:only-of-type {\n",
       "        vertical-align: middle;\n",
       "    }\n",
       "\n",
       "    .dataframe tbody tr th {\n",
       "        vertical-align: top;\n",
       "    }\n",
       "\n",
       "    .dataframe thead th {\n",
       "        text-align: right;\n",
       "    }\n",
       "</style>\n",
       "<table border=\"1\" class=\"dataframe\">\n",
       "  <thead>\n",
       "    <tr style=\"text-align: right;\">\n",
       "      <th></th>\n",
       "      <th>survived</th>\n",
       "      <th>name</th>\n",
       "      <th>sex</th>\n",
       "      <th>age</th>\n",
       "      <th>siblings_spouse_aboard</th>\n",
       "      <th>parents_children_aboard</th>\n",
       "      <th>ticket</th>\n",
       "      <th>fare</th>\n",
       "      <th>cabin</th>\n",
       "      <th>boat</th>\n",
       "      <th>home.dest</th>\n",
       "      <th>salutation</th>\n",
       "      <th>port_of_boarding</th>\n",
       "      <th>class</th>\n",
       "      <th>age_group</th>\n",
       "      <th>family_name</th>\n",
       "      <th>family_count</th>\n",
       "      <th>deck</th>\n",
       "    </tr>\n",
       "  </thead>\n",
       "  <tbody>\n",
       "    <tr>\n",
       "      <th>762</th>\n",
       "      <td>1</td>\n",
       "      <td>Dean, Master. Bertram Vere</td>\n",
       "      <td>male</td>\n",
       "      <td>1.0</td>\n",
       "      <td>1</td>\n",
       "      <td>2</td>\n",
       "      <td>C.A. 2315</td>\n",
       "      <td>20.575</td>\n",
       "      <td>NaN</td>\n",
       "      <td>10</td>\n",
       "      <td>Devon, England Wichita, KS</td>\n",
       "      <td>Master</td>\n",
       "      <td>Southampton</td>\n",
       "      <td>third</td>\n",
       "      <td>Adolescent</td>\n",
       "      <td>Dean</td>\n",
       "      <td>4</td>\n",
       "      <td>NaN</td>\n",
       "    </tr>\n",
       "  </tbody>\n",
       "</table>\n",
       "</div>"
      ],
      "text/plain": [
       "     survived                        name   sex  age  siblings_spouse_aboard  \\\n",
       "762         1  Dean, Master. Bertram Vere  male  1.0                       1   \n",
       "\n",
       "     parents_children_aboard     ticket    fare cabin boat  \\\n",
       "762                        2  C.A. 2315  20.575   NaN   10   \n",
       "\n",
       "                      home.dest salutation port_of_boarding  class  \\\n",
       "762  Devon, England Wichita, KS     Master      Southampton  third   \n",
       "\n",
       "      age_group family_name  family_count deck  \n",
       "762  Adolescent        Dean             4  NaN  "
      ]
     },
     "execution_count": 90,
     "metadata": {},
     "output_type": "execute_result"
    }
   ],
   "source": [
    "df_clean.sample(1)"
   ]
  },
  {
   "cell_type": "code",
   "execution_count": 97,
   "metadata": {},
   "outputs": [],
   "source": [
    "def select_ml_data(dataf):\n",
    "    return dataf[['survived',\n",
    "                  'sex',\n",
    "                  'age_group',\n",
    "                  'class',\n",
    "                  #'salutation',\n",
    "                  'deck',\n",
    "                  'port_of_boarding',\n",
    "                  'family_count',\n",
    "                  'siblings_spouse_aboard',\n",
    "                  'parents_children_aboard']]\n",
    "\n",
    "def prepare_ml_data(dataf):\n",
    "    # Getting Dummies from all other categorical vars\n",
    "    for col in dataf.dtypes[dataf.dtypes == 'object'].index:\n",
    "        # Get rid of current object column\n",
    "             for_dummy = dataf.pop(col)\n",
    "             dataf = pd.concat([dataf, pd.get_dummies(for_dummy, prefix=col)], axis=1)\n",
    "    return dataf"
   ]
  },
  {
   "cell_type": "code",
   "execution_count": 98,
   "metadata": {},
   "outputs": [],
   "source": [
    "# Run pipeline\n",
    "df_clean = (df\n",
    ".pipe(start_pipeline)\n",
    ".pipe(extract_salutation)\n",
    ".pipe(correct_missing_age)\n",
    ".pipe(port_of_embarcation)\n",
    ".pipe(passenger_class)\n",
    ".pipe(age_cluster)\n",
    ".pipe(family_aboard)\n",
    ".pipe(cabin)\n",
    ".pipe(rename_cols)\n",
    ".pipe(logical_cols)\n",
    ".pipe(drop_cols)\n",
    "           )"
   ]
  },
  {
   "cell_type": "code",
   "execution_count": 100,
   "metadata": {},
   "outputs": [
    {
     "data": {
      "text/html": [
       "<div>\n",
       "<style scoped>\n",
       "    .dataframe tbody tr th:only-of-type {\n",
       "        vertical-align: middle;\n",
       "    }\n",
       "\n",
       "    .dataframe tbody tr th {\n",
       "        vertical-align: top;\n",
       "    }\n",
       "\n",
       "    .dataframe thead th {\n",
       "        text-align: right;\n",
       "    }\n",
       "</style>\n",
       "<table border=\"1\" class=\"dataframe\">\n",
       "  <thead>\n",
       "    <tr style=\"text-align: right;\">\n",
       "      <th></th>\n",
       "      <th>survived</th>\n",
       "      <th>name</th>\n",
       "      <th>sex</th>\n",
       "      <th>age</th>\n",
       "      <th>siblings_spouse_aboard</th>\n",
       "      <th>parents_children_aboard</th>\n",
       "      <th>ticket</th>\n",
       "      <th>fare</th>\n",
       "      <th>cabin</th>\n",
       "      <th>boat</th>\n",
       "      <th>home.dest</th>\n",
       "      <th>salutation</th>\n",
       "      <th>port_of_boarding</th>\n",
       "      <th>class</th>\n",
       "      <th>age_group</th>\n",
       "      <th>family_name</th>\n",
       "      <th>family_count</th>\n",
       "      <th>deck</th>\n",
       "    </tr>\n",
       "  </thead>\n",
       "  <tbody>\n",
       "    <tr>\n",
       "      <th>621</th>\n",
       "      <td>1</td>\n",
       "      <td>Andersen-Jensen, Miss. Carla Christine Nielsine</td>\n",
       "      <td>female</td>\n",
       "      <td>19.0</td>\n",
       "      <td>1</td>\n",
       "      <td>1</td>\n",
       "      <td>350046</td>\n",
       "      <td>7.8542</td>\n",
       "      <td>NaN</td>\n",
       "      <td>16</td>\n",
       "      <td>NaN</td>\n",
       "      <td>Miss</td>\n",
       "      <td>Southampton</td>\n",
       "      <td>third</td>\n",
       "      <td>Young Adult</td>\n",
       "      <td>Andersen-Jensen</td>\n",
       "      <td>1</td>\n",
       "      <td>NaN</td>\n",
       "    </tr>\n",
       "  </tbody>\n",
       "</table>\n",
       "</div>"
      ],
      "text/plain": [
       "     survived                                             name     sex   age  \\\n",
       "621         1  Andersen-Jensen, Miss. Carla Christine Nielsine  female  19.0   \n",
       "\n",
       "     siblings_spouse_aboard  parents_children_aboard  ticket    fare cabin  \\\n",
       "621                       1                        1  350046  7.8542   NaN   \n",
       "\n",
       "    boat home.dest salutation port_of_boarding  class    age_group  \\\n",
       "621   16       NaN       Miss      Southampton  third  Young Adult   \n",
       "\n",
       "         family_name  family_count deck  \n",
       "621  Andersen-Jensen             1  NaN  "
      ]
     },
     "execution_count": 100,
     "metadata": {},
     "output_type": "execute_result"
    }
   ],
   "source": [
    "df_clean.sample(1)"
   ]
  },
  {
   "cell_type": "code",
   "execution_count": 101,
   "metadata": {},
   "outputs": [
    {
     "data": {
      "text/html": [
       "<div>\n",
       "<style scoped>\n",
       "    .dataframe tbody tr th:only-of-type {\n",
       "        vertical-align: middle;\n",
       "    }\n",
       "\n",
       "    .dataframe tbody tr th {\n",
       "        vertical-align: top;\n",
       "    }\n",
       "\n",
       "    .dataframe thead th {\n",
       "        text-align: right;\n",
       "    }\n",
       "</style>\n",
       "<table border=\"1\" class=\"dataframe\">\n",
       "  <thead>\n",
       "    <tr style=\"text-align: right;\">\n",
       "      <th></th>\n",
       "      <th>NAs</th>\n",
       "    </tr>\n",
       "  </thead>\n",
       "  <tbody>\n",
       "    <tr>\n",
       "      <th>fare</th>\n",
       "      <td>1</td>\n",
       "    </tr>\n",
       "    <tr>\n",
       "      <th>cabin</th>\n",
       "      <td>1014</td>\n",
       "    </tr>\n",
       "    <tr>\n",
       "      <th>boat</th>\n",
       "      <td>823</td>\n",
       "    </tr>\n",
       "    <tr>\n",
       "      <th>home.dest</th>\n",
       "      <td>564</td>\n",
       "    </tr>\n",
       "    <tr>\n",
       "      <th>port_of_boarding</th>\n",
       "      <td>2</td>\n",
       "    </tr>\n",
       "    <tr>\n",
       "      <th>deck</th>\n",
       "      <td>1014</td>\n",
       "    </tr>\n",
       "  </tbody>\n",
       "</table>\n",
       "</div>"
      ],
      "text/plain": [
       "                   NAs\n",
       "fare                 1\n",
       "cabin             1014\n",
       "boat               823\n",
       "home.dest          564\n",
       "port_of_boarding     2\n",
       "deck              1014"
      ]
     },
     "execution_count": 101,
     "metadata": {},
     "output_type": "execute_result"
    }
   ],
   "source": [
    "#Checking for missing data\n",
    "NAs = pd.concat([df_clean.isnull().sum()], axis=1, keys=['NAs'])\n",
    "NAs[NAs.sum(axis=1) > 0]"
   ]
  },
  {
   "cell_type": "code",
   "execution_count": 102,
   "metadata": {},
   "outputs": [],
   "source": [
    "df_ml = (df_clean\n",
    ".pipe(start_pipeline)\n",
    ".pipe(select_ml_data)\n",
    ".pipe(prepare_ml_data)\n",
    "            )"
   ]
  },
  {
   "cell_type": "code",
   "execution_count": 104,
   "metadata": {},
   "outputs": [
    {
     "data": {
      "text/plain": [
       "Index(['survived', 'age_group', 'family_count', 'siblings_spouse_aboard',\n",
       "       'parents_children_aboard', 'sex_female', 'sex_male', 'class_first',\n",
       "       'class_second', 'class_third', 'deck_A', 'deck_B', 'deck_C', 'deck_D',\n",
       "       'deck_E', 'deck_F', 'deck_G', 'deck_T', 'port_of_boarding_Cherbourg',\n",
       "       'port_of_boarding_Queenstown', 'port_of_boarding_Southampton'],\n",
       "      dtype='object')"
      ]
     },
     "execution_count": 104,
     "metadata": {},
     "output_type": "execute_result"
    }
   ],
   "source": [
    "df_ml.columns"
   ]
  },
  {
   "cell_type": "markdown",
   "metadata": {},
   "source": [
    "## Model Fit"
   ]
  },
  {
   "cell_type": "code",
   "execution_count": 108,
   "metadata": {},
   "outputs": [],
   "source": [
    "from sklearn import preprocessing, neighbors, svm\n",
    "from sklearn.model_selection import train_test_split"
   ]
  },
  {
   "cell_type": "code",
   "execution_count": 109,
   "metadata": {},
   "outputs": [],
   "source": [
    "X = df_ml.drop(columns={'survived'})\n",
    "y = df_ml['survived']"
   ]
  },
  {
   "cell_type": "code",
   "execution_count": 110,
   "metadata": {},
   "outputs": [],
   "source": [
    "# Clean up x by getting the dummies\n",
    "X = pd.get_dummies(X)"
   ]
  },
  {
   "cell_type": "code",
   "execution_count": 111,
   "metadata": {},
   "outputs": [],
   "source": [
    "X_train, X_test, y_train, y_test = train_test_split(X, y, test_size = 0.3, random_state=42)"
   ]
  },
  {
   "cell_type": "code",
   "execution_count": 112,
   "metadata": {},
   "outputs": [
    {
     "data": {
      "text/plain": [
       "DecisionTreeClassifier(class_weight=None, criterion='gini', max_depth=3,\n",
       "            max_features=None, max_leaf_nodes=None,\n",
       "            min_impurity_decrease=0.0, min_impurity_split=None,\n",
       "            min_samples_leaf=1, min_samples_split=2,\n",
       "            min_weight_fraction_leaf=0.0, presort=False, random_state=None,\n",
       "            splitter='best')"
      ]
     },
     "execution_count": 112,
     "metadata": {},
     "output_type": "execute_result"
    }
   ],
   "source": [
    "from sklearn import tree\n",
    "clftree = tree.DecisionTreeClassifier(max_depth=3)\n",
    "clftree.fit(X_train,y_train)"
   ]
  },
  {
   "cell_type": "code",
   "execution_count": 34,
   "metadata": {},
   "outputs": [
    {
     "data": {
      "image/png": "[encoded data removed]",
      "text/plain": [
       "<Figure size 1296x720 with 1 Axes>"
      ]
     },
     "metadata": {
      "needs_background": "light"
     },
     "output_type": "display_data"
    }
   ],
   "source": [
    "# Visualizing the decision tree\n",
    "from sklearn import tree\n",
    "from scipy import misc\n",
    "import pydotplus\n",
    "import graphviz\n",
    "import matplotlib.pyplot as plt\n",
    "import imageio\n",
    "\n",
    "def show_tree(decisionTree, file_path):\n",
    "    tree.export_graphviz(decisionTree, out_file='tree.dot',feature_names=X_train.columns)\n",
    "    graph = pydotplus.graphviz.graph_from_dot_file('tree.dot')\n",
    "    graph.write_png('tree.png')\n",
    "    i = imageio.imread(file_path)\n",
    "    \n",
    "    fig, ax = plt.subplots(figsize=(18, 10))    \n",
    "    ax.imshow(i, aspect='auto')\n",
    "\n",
    "# To use it\n",
    "show_tree(clftree, 'tree.png')"
   ]
  },
  {
   "cell_type": "code",
   "execution_count": 150,
   "metadata": {},
   "outputs": [
    {
     "name": "stdout",
     "output_type": "stream",
     "text": [
      "**** Results Decision Tree ****\n",
      "Accuracy: 79.8982%\n",
      "Precision: 86.8852%\n",
      "Recall: 62.7219%\n"
     ]
    }
   ],
   "source": [
    "from sklearn.metrics import accuracy_score, log_loss, auc, precision_score, recall_score\n",
    "\n",
    "print('**** Results Decision Tree ****')\n",
    "train_predictions = clftree.predict(X_test)\n",
    "acc = accuracy_score(y_test, train_predictions)\n",
    "pre = precision_score(y_test, train_predictions)\n",
    "rec = recall_score(y_test, train_predictions)\n",
    "#auc = auc(y_test, train_predictions)\n",
    "\n",
    "# Accuracy = [TruePositive + TrueNegative]/ Total\n",
    "print(\"Accuracy: {:.4%}\".format(acc))\n",
    "# Precision = TruePositive / [TruePositive + FalsePositive]\n",
    "print(\"Precision: {:.4%}\".format(pre))\n",
    "# PRecall = TruePositive / [TruePositive + FalseNegative]\n",
    "print(\"Recall: {:.4%}\".format(rec))\n",
    "#print(\"AUC: {:.4%}\".format(auc))"
   ]
  },
  {
   "cell_type": "code",
   "execution_count": 143,
   "metadata": {},
   "outputs": [
    {
     "name": "stdout",
     "output_type": "stream",
     "text": [
      "[[208  16]\n",
      " [ 63 106]]\n"
     ]
    },
    {
     "data": {
      "image/png": "[encoded data removed]",
      "text/plain": [
       "<Figure size 432x288 with 2 Axes>"
      ]
     },
     "metadata": {
      "needs_background": "light"
     },
     "output_type": "display_data"
    }
   ],
   "source": [
    "from sklearn.metrics import confusion_matrix\n",
    "labels = ['survived', 'died']\n",
    "cm = confusion_matrix(y_test, train_predictions)\n",
    "print(cm)\n",
    "fig = plt.figure()\n",
    "ax = fig.add_subplot(111)\n",
    "cax = ax.matshow(cm)\n",
    "plt.title('Confusion matrix of the classifier')\n",
    "#fig.colorbar(cax)\n",
    "color_bar = plt.colorbar(cax)                          \n",
    "cbytick_obj = plt.getp(color_bar.ax.axes, 'yticklabels')  # tricky\n",
    "plt.setp(cbytick_obj, color='r')\n",
    "ax.set_xticklabels([''] + labels)\n",
    "ax.set_yticklabels([''] + labels)\n",
    "ax.xaxis.label.set_color('red')\n",
    "ax.yaxis.label.set_color('red')\n",
    "ax.tick_params(axis='x', colors='red')\n",
    "ax.tick_params(axis='y', colors='red')\n",
    "plt.xlabel('Predicted')\n",
    "plt.ylabel('True')\n",
    "plt.show()"
   ]
  },
  {
   "cell_type": "markdown",
   "metadata": {},
   "source": [
    "### Let's try the logistic regression"
   ]
  },
  {
   "cell_type": "code",
   "execution_count": 144,
   "metadata": {},
   "outputs": [
    {
     "name": "stderr",
     "output_type": "stream",
     "text": [
      "/home/julien/anaconda3/lib/python3.7/site-packages/sklearn/linear_model/logistic.py:433: FutureWarning: Default solver will be changed to 'lbfgs' in 0.22. Specify a solver to silence this warning.\n",
      "  FutureWarning)\n"
     ]
    },
    {
     "data": {
      "text/plain": [
       "LogisticRegression(C=1.0, class_weight=None, dual=False, fit_intercept=True,\n",
       "          intercept_scaling=1, max_iter=100, multi_class='warn',\n",
       "          n_jobs=None, penalty='l2', random_state=None, solver='warn',\n",
       "          tol=0.0001, verbose=0, warm_start=False)"
      ]
     },
     "execution_count": 144,
     "metadata": {},
     "output_type": "execute_result"
    }
   ],
   "source": [
    "from sklearn.linear_model import LogisticRegression\n",
    "logreg = LogisticRegression() #logistic regression using python\n",
    "logreg.fit(X_train, \n",
    "           y_train)"
   ]
  },
  {
   "cell_type": "code",
   "execution_count": 145,
   "metadata": {},
   "outputs": [
    {
     "name": "stdout",
     "output_type": "stream",
     "text": [
      "Accuracy of logistic regression classifier on test set: 0.79\n"
     ]
    }
   ],
   "source": [
    "y_pred = logreg.predict(X_test) #predicting the values\n",
    "print('Accuracy of logistic regression classifier on test set: {:.2f}'.format(logreg.score(X_test, y_test)))"
   ]
  },
  {
   "cell_type": "code",
   "execution_count": 151,
   "metadata": {},
   "outputs": [
    {
     "name": "stdout",
     "output_type": "stream",
     "text": [
      "**** Results Logistic Regression ****\n",
      "Accuracy: 78.8804%\n",
      "Precision: 81.1594%\n",
      "Recall: 66.2722%\n"
     ]
    }
   ],
   "source": [
    "print('**** Results Logistic Regression ****')\n",
    "acc = accuracy_score(y_test, y_pred)\n",
    "pre = precision_score(y_test, y_pred)\n",
    "rec = recall_score(y_test, y_pred)\n",
    "#auc = auc(y_test, train_predictions)\n",
    "\n",
    "# Accuracy = [TruePositive + TrueNegative]/ Total\n",
    "print(\"Accuracy: {:.4%}\".format(acc))\n",
    "# Precision = TruePositive / [TruePositive + FalsePositive]\n",
    "print(\"Precision: {:.4%}\".format(pre))\n",
    "# Recall = TruePositive / [TruePositive + FalseNegative]\n",
    "print(\"Recall: {:.4%}\".format(rec))\n",
    "#print(\"AUC: {:.4%}\".format(auc))"
   ]
  },
  {
   "cell_type": "code",
   "execution_count": 159,
   "metadata": {},
   "outputs": [
    {
     "data": {
      "text/plain": [
       "array([[198,  26],\n",
       "       [ 57, 112]])"
      ]
     },
     "execution_count": 159,
     "metadata": {},
     "output_type": "execute_result"
    }
   ],
   "source": [
    "from sklearn.metrics import confusion_matrix\n",
    "confusion_matrix(y_test,y_pred)"
   ]
  },
  {
   "cell_type": "code",
   "execution_count": 158,
   "metadata": {},
   "outputs": [
    {
     "name": "stdout",
     "output_type": "stream",
     "text": [
      "==============================\n",
      "KNeighborsClassifier\n",
      "****Results****\n",
      "Accuracy: 77.8626%\n",
      "Precision: 82.0312%\n",
      "Recall: 62.1302%\n",
      "Log Loss: 3.3276028472462005\n",
      "==============================\n",
      "DecisionTreeClassifier\n",
      "****Results****\n",
      "Accuracy: 77.6081%\n",
      "Precision: 82.4000%\n",
      "Recall: 60.9467%\n",
      "Log Loss: 4.694853380619004\n",
      "==============================\n",
      "RandomForestClassifier\n",
      "****Results****\n",
      "Accuracy: 77.8626%\n",
      "Precision: 82.5397%\n",
      "Recall: 61.5385%\n",
      "Log Loss: 1.556717046685071\n",
      "==============================\n",
      "AdaBoostClassifier\n",
      "****Results****\n",
      "Accuracy: 80.1527%\n",
      "Precision: 80.5369%\n",
      "Recall: 71.0059%\n",
      "Log Loss: 0.6786411148717828\n",
      "==============================\n",
      "GradientBoostingClassifier\n",
      "****Results****\n",
      "Accuracy: 79.6438%\n",
      "Precision: 85.6000%\n",
      "Recall: 63.3136%\n",
      "Log Loss: 0.453766830178001\n",
      "==============================\n",
      "GaussianNB\n",
      "****Results****\n",
      "Accuracy: 70.7379%\n",
      "Precision: 60.7143%\n",
      "Recall: 90.5325%\n",
      "Log Loss: 2.25182977006919\n",
      "==============================\n",
      "LinearDiscriminantAnalysis\n",
      "****Results****\n",
      "Accuracy: 79.3893%\n",
      "Precision: 80.5556%\n",
      "Recall: 68.6391%\n",
      "Log Loss: 0.4637077232816431\n",
      "==============================\n",
      "QuadraticDiscriminantAnalysis\n",
      "****Results****\n",
      "Accuracy: 60.8142%\n",
      "Precision: 62.2951%\n",
      "Recall: 22.4852%\n",
      "Log Loss: 9.153141217571918\n",
      "==============================\n"
     ]
    },
    {
     "name": "stderr",
     "output_type": "stream",
     "text": [
      "/home/julien/anaconda3/lib/python3.7/site-packages/sklearn/ensemble/forest.py:246: FutureWarning: The default value of n_estimators will change from 10 in version 0.20 to 100 in 0.22.\n",
      "  \"10 in version 0.20 to 100 in 0.22.\", FutureWarning)\n",
      "/home/julien/anaconda3/lib/python3.7/site-packages/sklearn/discriminant_analysis.py:388: UserWarning: Variables are collinear.\n",
      "  warnings.warn(\"Variables are collinear.\")\n",
      "/home/julien/anaconda3/lib/python3.7/site-packages/sklearn/discriminant_analysis.py:692: UserWarning: Variables are collinear\n",
      "  warnings.warn(\"Variables are collinear\")\n"
     ]
    }
   ],
   "source": [
    "from sklearn.metrics import accuracy_score, log_loss\n",
    "from sklearn.neighbors import KNeighborsClassifier\n",
    "from sklearn.svm import SVC, LinearSVC, NuSVC\n",
    "from sklearn.tree import DecisionTreeClassifier\n",
    "from sklearn.ensemble import RandomForestClassifier, AdaBoostClassifier, GradientBoostingClassifier\n",
    "from sklearn.naive_bayes import GaussianNB\n",
    "from sklearn.discriminant_analysis import LinearDiscriminantAnalysis\n",
    "from sklearn.discriminant_analysis import QuadraticDiscriminantAnalysis\n",
    "\n",
    "classifiers = [\n",
    "    KNeighborsClassifier(3),\n",
    "    #SVC(kernel=\"rbf\", C=0.025, probability=True, gamma='auto'),\n",
    "    DecisionTreeClassifier(),\n",
    "    RandomForestClassifier(),\n",
    "    AdaBoostClassifier(),\n",
    "    GradientBoostingClassifier(),\n",
    "    GaussianNB(),\n",
    "    LinearDiscriminantAnalysis(),\n",
    "    QuadraticDiscriminantAnalysis()]\n",
    "\n",
    "# Logging for Visual Comparison\n",
    "log_cols=[\"Classifier\", \"Accuracy\", \"Log Loss\"]\n",
    "log = pd.DataFrame(columns=log_cols)\n",
    "\n",
    "for clf in classifiers:\n",
    "    clf.fit(X_train, y_train)\n",
    "    name = clf.__class__.__name__\n",
    "    \n",
    "    print(\"=\"*30)\n",
    "    print(name)\n",
    "    \n",
    "    print('****Results****')\n",
    "    train_predictions = clf.predict(X_test)\n",
    "    acc = accuracy_score(y_test, train_predictions)\n",
    "    pre = precision_score(y_test, train_predictions)\n",
    "    rec = recall_score(y_test, train_predictions)\n",
    "    print(\"Accuracy: {:.4%}\".format(acc))\n",
    "    print(\"Precision: {:.4%}\".format(pre))\n",
    "    print(\"Recall: {:.4%}\".format(rec))\n",
    "    \n",
    "    train_predictions = clf.predict_proba(X_test)\n",
    "    ll = log_loss(y_test, train_predictions)\n",
    "    print(\"Log Loss: {}\".format(ll))\n",
    "        \n",
    "    log_entry = pd.DataFrame([[name, acc*100, ll]], columns=log_cols)\n",
    "    log = log.append(log_entry)\n",
    "    \n",
    "print(\"=\"*30)"
   ]
  },
  {
   "cell_type": "code",
   "execution_count": null,
   "metadata": {},
   "outputs": [],
   "source": []
  }
 ],
 "metadata": {
  "kernelspec": {
   "display_name": "Python 3",
   "language": "python",
   "name": "python3"
  },
  "language_info": {
   "codemirror_mode": {
    "name": "ipython",
    "version": 3
   },
   "file_extension": ".py",
   "mimetype": "text/x-python",
   "name": "python",
   "nbconvert_exporter": "python",
   "pygments_lexer": "ipython3",
   "version": "3.7.4"
  }
 },
 "nbformat": 4,
 "nbformat_minor": 2
}
